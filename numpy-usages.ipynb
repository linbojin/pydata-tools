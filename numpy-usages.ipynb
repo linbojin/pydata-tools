{
 "cells": [
  {
   "cell_type": "markdown",
   "metadata": {},
   "source": [
    "## NumPy\n",
    "[NumPy](http://www.numpy.org/) is the fundamental package for scientific computing with Python. It contains among other things:\n",
    "* a powerful N-dimensional array object\n",
    "* sophisticated (broadcasting) functions\n",
    "* tools for integrating C/C++ and Fortran code\n",
    "* useful linear algebra, Fourier transform, and random number capabilities"
   ]
  },
  {
   "cell_type": "code",
   "execution_count": 1,
   "metadata": {
    "collapsed": true
   },
   "outputs": [],
   "source": [
    "import numpy as np"
   ]
  },
  {
   "cell_type": "code",
   "execution_count": 2,
   "metadata": {
    "collapsed": false,
    "scrolled": true
   },
   "outputs": [
    {
     "name": "stdout",
     "output_type": "stream",
     "text": [
      "[[ 0.27050827  0.65552441  0.64388195]\n",
      " [ 0.71413753  0.10502647  0.91923331]]\n",
      "<type 'numpy.ndarray'>\n"
     ]
    }
   ],
   "source": [
    "data = np.random.rand(2, 3) # np.random.randn(2, 3)\n",
    "print data\n",
    "print type(data)"
   ]
  },
  {
   "cell_type": "code",
   "execution_count": 3,
   "metadata": {
    "collapsed": false
   },
   "outputs": [
    {
     "name": "stdout",
     "output_type": "stream",
     "text": [
      "2\n",
      "(2, 3)\n",
      "float64\n"
     ]
    }
   ],
   "source": [
    "print data.ndim\n",
    "print data.shape\n",
    "print data.dtype"
   ]
  },
  {
   "cell_type": "markdown",
   "metadata": {},
   "source": [
    "### Create ndarray"
   ]
  },
  {
   "cell_type": "code",
   "execution_count": 4,
   "metadata": {
    "collapsed": false
   },
   "outputs": [
    {
     "name": "stdout",
     "output_type": "stream",
     "text": [
      "[0 1 2 3 4 5 6 7 8 9]\n",
      "1\n",
      "(10,)\n"
     ]
    }
   ],
   "source": [
    "# list => ndarray\n",
    "lst = range(10)\n",
    "data = np.array(lst)\n",
    "print data\n",
    "print data.ndim\n",
    "print data.shape"
   ]
  },
  {
   "cell_type": "code",
   "execution_count": 5,
   "metadata": {
    "collapsed": false
   },
   "outputs": [
    {
     "name": "stdout",
     "output_type": "stream",
     "text": [
      "[[0 1 2 3 4 5 6 7 8 9]\n",
      " [0 1 2 3 4 5 6 7 8 9]]\n",
      "(2, 10)\n"
     ]
    }
   ],
   "source": [
    "# nested list => ndarray\n",
    "lst2 = [range(10), range(10)]\n",
    "data = np.array(lst2)\n",
    "print data\n",
    "print data.shape"
   ]
  },
  {
   "cell_type": "markdown",
   "metadata": {},
   "source": [
    "* np.zeros, np.ones, np.empty"
   ]
  },
  {
   "cell_type": "code",
   "execution_count": 6,
   "metadata": {
    "collapsed": false
   },
   "outputs": [
    {
     "name": "stdout",
     "output_type": "stream",
     "text": [
      "[[ 0.  0.  0.  0.]\n",
      " [ 0.  0.  0.  0.]\n",
      " [ 0.  0.  0.  0.]]\n",
      "--------------\n",
      "[[ 1.  1.  1.]\n",
      " [ 1.  1.  1.]]\n",
      "--------------\n",
      "[[  4.94065646e-324   9.88131292e-324   1.48219694e-323]\n",
      " [  1.97626258e-323   2.47032823e-323   2.96439388e-323]\n",
      " [  3.45845952e-323   3.95252517e-323   4.44659081e-323]]\n",
      "--------------\n",
      "[[1 2 3]\n",
      " [4 5 6]\n",
      " [7 8 9]]\n"
     ]
    }
   ],
   "source": [
    "zeros_arr = np.zeros((3, 4))\n",
    "\n",
    "ones_arr = np.ones((2, 3))\n",
    "\n",
    "empty_arr = np.empty((3, 3))\n",
    "\n",
    "empty_int_arr = np.empty((3, 3), int)\n",
    "\n",
    "print zeros_arr\n",
    "print '--------------'\n",
    "print ones_arr\n",
    "print '--------------'\n",
    "print empty_arr\n",
    "print '--------------'\n",
    "print empty_int_arr"
   ]
  },
  {
   "cell_type": "code",
   "execution_count": 7,
   "metadata": {
    "collapsed": false
   },
   "outputs": [
    {
     "name": "stdout",
     "output_type": "stream",
     "text": [
      "[0 1 2 3 4 5 6 7 8 9]\n"
     ]
    }
   ],
   "source": [
    "print np.arange(10)"
   ]
  },
  {
   "cell_type": "markdown",
   "metadata": {},
   "source": [
    "### ndarray datatypes"
   ]
  },
  {
   "cell_type": "code",
   "execution_count": 8,
   "metadata": {
    "collapsed": false
   },
   "outputs": [
    {
     "name": "stdout",
     "output_type": "stream",
     "text": [
      "[[ 0.  0.  0.  0.]\n",
      " [ 0.  0.  0.  0.]\n",
      " [ 0.  0.  0.  0.]]\n",
      "float64\n",
      "[[0 0 0 0]\n",
      " [0 0 0 0]\n",
      " [0 0 0 0]]\n",
      "int32\n"
     ]
    }
   ],
   "source": [
    "zeros_float_arr = np.zeros((3, 4), dtype=np.float64)\n",
    "print zeros_float_arr\n",
    "print zeros_float_arr.dtype\n",
    "\n",
    "# astype => type transform\n",
    "zeros_int_arr = zeros_float_arr.astype(np.int32)\n",
    "print zeros_int_arr\n",
    "print zeros_int_arr.dtype"
   ]
  },
  {
   "cell_type": "markdown",
   "metadata": {},
   "source": [
    "### Vectorization"
   ]
  },
  {
   "cell_type": "code",
   "execution_count": 9,
   "metadata": {
    "collapsed": false
   },
   "outputs": [
    {
     "name": "stdout",
     "output_type": "stream",
     "text": [
      "Element-wise multiply: \n",
      "[[ 1  4  9]\n",
      " [16 25 36]]\n",
      "Matrix addition: \n",
      "[[ 2  4  6]\n",
      " [ 8 10 12]]\n"
     ]
    }
   ],
   "source": [
    "# Matrix and Matrix\n",
    "arr = np.array([[1, 2, 3],\n",
    "                [4, 5, 6]])\n",
    "print \"Element-wise multiply: \"\n",
    "print arr * arr\n",
    "\n",
    "print \"Matrix addition: \"\n",
    "print arr + arr"
   ]
  },
  {
   "cell_type": "code",
   "execution_count": 10,
   "metadata": {
    "collapsed": false
   },
   "outputs": [
    {
     "name": "stdout",
     "output_type": "stream",
     "text": [
      "[[ 1.          0.5         0.33333333]\n",
      " [ 0.25        0.2         0.16666667]]\n",
      "[[  2.   4.   6.]\n",
      " [  8.  10.  12.]]\n"
     ]
    }
   ],
   "source": [
    "# Matrix and Scalar => Broadcasting\n",
    "print 1.0 / arr\n",
    "print 2.0 * arr"
   ]
  },
  {
   "cell_type": "markdown",
   "metadata": {},
   "source": [
    "### Index and Slice"
   ]
  },
  {
   "cell_type": "code",
   "execution_count": 11,
   "metadata": {
    "collapsed": false
   },
   "outputs": [
    {
     "name": "stdout",
     "output_type": "stream",
     "text": [
      "[0 1 2 3 4 5 6 7 8 9]\n",
      "[2 3 4]\n"
     ]
    }
   ],
   "source": [
    "# one-dimensional\n",
    "arr1 = np.arange(10)\n",
    "print arr1\n",
    "\n",
    "print arr1[2:5]"
   ]
  },
  {
   "cell_type": "code",
   "execution_count": 12,
   "metadata": {
    "collapsed": false
   },
   "outputs": [
    {
     "name": "stdout",
     "output_type": "stream",
     "text": [
      "[[ 0  1  2  3]\n",
      " [ 4  5  6  7]\n",
      " [ 8  9 10 11]]\n"
     ]
    }
   ],
   "source": [
    "# multi-dimensional\n",
    "arr2 = np.arange(12).reshape(3, 4)\n",
    "print arr2"
   ]
  },
  {
   "cell_type": "code",
   "execution_count": 13,
   "metadata": {
    "collapsed": false
   },
   "outputs": [
    {
     "name": "stdout",
     "output_type": "stream",
     "text": [
      "[4 5 6 7]\n",
      "[[2 3]\n",
      " [6 7]]\n",
      "[[ 1  2]\n",
      " [ 5  6]\n",
      " [ 9 10]]\n"
     ]
    }
   ],
   "source": [
    "print arr2[1]\n",
    "\n",
    "print arr2[0:2, 2:]\n",
    "\n",
    "print arr2[:, 1:3]"
   ]
  },
  {
   "cell_type": "markdown",
   "metadata": {},
   "source": [
    "* Conditional Index"
   ]
  },
  {
   "cell_type": "code",
   "execution_count": 14,
   "metadata": {
    "collapsed": false
   },
   "outputs": [
    {
     "name": "stdout",
     "output_type": "stream",
     "text": [
      "[[ 0.24132274  0.24290864  0.40964438]\n",
      " [ 0.62237491  0.63526951  0.35180864]\n",
      " [ 0.9175882   0.1645499   0.17264982]]\n",
      "[[False False False]\n",
      " [ True False  True]\n",
      " [False False  True]] bool\n",
      "[ 0.62237491  0.35180864  0.17264982]\n"
     ]
    }
   ],
   "source": [
    "data_arr = np.random.rand(3, 3)\n",
    "print data_arr\n",
    "\n",
    "year_arr = np.array([[2000, 2001, 2000],\n",
    "                     [2005, 2002, 2009],\n",
    "                     [2001, 2003, 2010]])\n",
    "\n",
    "is_year_after_2005 = year_arr >= 2005\n",
    "print is_year_after_2005, is_year_after_2005.dtype\n",
    "\n",
    "print data_arr[is_year_after_2005]"
   ]
  },
  {
   "cell_type": "code",
   "execution_count": 15,
   "metadata": {
    "collapsed": false
   },
   "outputs": [
    {
     "name": "stdout",
     "output_type": "stream",
     "text": [
      "[ 0.62237491  0.35180864  0.17264982]\n"
     ]
    }
   ],
   "source": [
    "filtered_arr = data_arr[year_arr >= 2005]\n",
    "print filtered_arr"
   ]
  },
  {
   "cell_type": "code",
   "execution_count": 16,
   "metadata": {
    "collapsed": false
   },
   "outputs": [
    {
     "name": "stdout",
     "output_type": "stream",
     "text": [
      "[ 0.24132274  0.40964438  0.63526951]\n"
     ]
    }
   ],
   "source": [
    "# combined conditions\n",
    "filtered_arr = data_arr[(year_arr <= 2005) & (year_arr % 2 == 0)]\n",
    "print filtered_arr"
   ]
  },
  {
   "cell_type": "markdown",
   "metadata": {},
   "source": [
    "### Transpose"
   ]
  },
  {
   "cell_type": "code",
   "execution_count": 17,
   "metadata": {
    "collapsed": false
   },
   "outputs": [
    {
     "name": "stdout",
     "output_type": "stream",
     "text": [
      "[[ 0.40180954  0.3614568   0.91059016]\n",
      " [ 0.49248442  0.19218862  0.55206836]]\n",
      "[[ 0.40180954  0.49248442]\n",
      " [ 0.3614568   0.19218862]\n",
      " [ 0.91059016  0.55206836]]\n"
     ]
    }
   ],
   "source": [
    "arr = np.random.rand(2, 3)\n",
    "print arr\n",
    "print arr.transpose()"
   ]
  },
  {
   "cell_type": "code",
   "execution_count": 18,
   "metadata": {
    "collapsed": false
   },
   "outputs": [
    {
     "name": "stdout",
     "output_type": "stream",
     "text": [
      "[[[ 0.21037032  0.8469831   0.24278425  0.64202269]\n",
      "  [ 0.54540968  0.36433457  0.10389035  0.24549166]\n",
      "  [ 0.2931179   0.85763502  0.43530976  0.85923632]]\n",
      "\n",
      " [[ 0.28010779  0.17362656  0.8546328   0.02854199]\n",
      "  [ 0.70338546  0.21264135  0.1557487   0.42192372]\n",
      "  [ 0.44211358  0.33558635  0.26555935  0.58874057]]]\n",
      "-------------------------------\n",
      "[[[ 0.21037032  0.8469831   0.24278425  0.64202269]\n",
      "  [ 0.28010779  0.17362656  0.8546328   0.02854199]]\n",
      "\n",
      " [[ 0.54540968  0.36433457  0.10389035  0.24549166]\n",
      "  [ 0.70338546  0.21264135  0.1557487   0.42192372]]\n",
      "\n",
      " [[ 0.2931179   0.85763502  0.43530976  0.85923632]\n",
      "  [ 0.44211358  0.33558635  0.26555935  0.58874057]]]\n"
     ]
    }
   ],
   "source": [
    "arr3d = np.random.rand(2, 3, 4)\n",
    "print arr3d\n",
    "print '-------------------------------'\n",
    "print arr3d.transpose((1, 0, 2)) # 3x2x4"
   ]
  },
  {
   "cell_type": "markdown",
   "metadata": {},
   "source": [
    "### Common Functions"
   ]
  },
  {
   "cell_type": "code",
   "execution_count": 19,
   "metadata": {
    "collapsed": false
   },
   "outputs": [
    {
     "name": "stdout",
     "output_type": "stream",
     "text": [
      "[[ 0.11228757  0.59327282  0.93399598]\n",
      " [ 0.44392257  0.38937243  0.76498384]]\n",
      "[[ 1.  1.  1.]\n",
      " [ 1.  1.  1.]]\n",
      "[[ 0.  0.  0.]\n",
      " [ 0.  0.  0.]]\n",
      "[[ 0.  1.  1.]\n",
      " [ 0.  0.  1.]]\n",
      "[[False False False]\n",
      " [False False False]]\n"
     ]
    }
   ],
   "source": [
    "arr = np.random.rand(2, 3)\n",
    "\n",
    "print arr\n",
    "print np.ceil(arr)\n",
    "print np.floor(arr)\n",
    "print np.rint(arr)\n",
    "print np.isnan(arr)"
   ]
  },
  {
   "cell_type": "code",
   "execution_count": 20,
   "metadata": {
    "collapsed": false
   },
   "outputs": [
    {
     "name": "stdout",
     "output_type": "stream",
     "text": [
      "[[-0.55997676  1.10446202 -0.31294588 -0.59142984]\n",
      " [-0.63260104  1.85153651  0.8225534   1.67989521]\n",
      " [ 0.3545866  -0.16699958 -0.32050602  0.27409438]]\n",
      "[[-1  1 -1 -1]\n",
      " [-1  1  1  1]\n",
      " [ 1 -1 -1  1]]\n"
     ]
    }
   ],
   "source": [
    "arr = np.random.randn(3, 4)\n",
    "print arr\n",
    "\n",
    "print np.where(arr > 0, 1, -1)"
   ]
  },
  {
   "cell_type": "markdown",
   "metadata": {},
   "source": [
    "*  Statistic Functions"
   ]
  },
  {
   "cell_type": "code",
   "execution_count": 21,
   "metadata": {
    "collapsed": false
   },
   "outputs": [
    {
     "name": "stdout",
     "output_type": "stream",
     "text": [
      "[[0 1]\n",
      " [2 3]\n",
      " [4 5]\n",
      " [6 7]\n",
      " [8 9]]\n",
      "45\n",
      "[20 25]\n",
      "[ 1  5  9 13 17]\n",
      "4.5\n",
      "4.0\n"
     ]
    }
   ],
   "source": [
    "arr = np.arange(10).reshape(5, 2)\n",
    "print arr\n",
    "\n",
    "print np.sum(arr)\n",
    "print np.sum(arr, axis=0)\n",
    "print np.sum(arr, axis=1)\n",
    "print np.mean(arr)\n",
    "print np.median(np.arange(9))"
   ]
  },
  {
   "cell_type": "markdown",
   "metadata": {},
   "source": [
    "* np.all, np.any"
   ]
  },
  {
   "cell_type": "code",
   "execution_count": 22,
   "metadata": {
    "collapsed": false
   },
   "outputs": [
    {
     "name": "stdout",
     "output_type": "stream",
     "text": [
      "[[-1.10183743 -1.06473119 -0.34290519]\n",
      " [-0.78503584  0.12414087  0.588644  ]]\n",
      "True\n",
      "False\n"
     ]
    }
   ],
   "source": [
    "arr = np.random.randn(2, 3)\n",
    "print arr\n",
    "\n",
    "print np.any(arr > 0)\n",
    "print np.all(arr > 0)"
   ]
  },
  {
   "cell_type": "markdown",
   "metadata": {
    "collapsed": true
   },
   "source": [
    "* np.unique"
   ]
  },
  {
   "cell_type": "code",
   "execution_count": 23,
   "metadata": {
    "collapsed": false
   },
   "outputs": [
    {
     "name": "stdout",
     "output_type": "stream",
     "text": [
      "[[1 2 1]\n",
      " [2 3 4]]\n",
      "[1 2 3 4]\n"
     ]
    }
   ],
   "source": [
    "arr = np.array([[1, 2, 1], [2, 3, 4]])\n",
    "print(arr)\n",
    "print(np.unique(arr))"
   ]
  },
  {
   "cell_type": "code",
   "execution_count": null,
   "metadata": {
    "collapsed": true
   },
   "outputs": [],
   "source": []
  }
 ],
 "metadata": {
  "kernelspec": {
   "display_name": "Python [conda root]",
   "language": "python",
   "name": "conda-root-py"
  },
  "language_info": {
   "codemirror_mode": {
    "name": "ipython",
    "version": 2
   },
   "file_extension": ".py",
   "mimetype": "text/x-python",
   "name": "python",
   "nbconvert_exporter": "python",
   "pygments_lexer": "ipython2",
   "version": "2.7.13"
  }
 },
 "nbformat": 4,
 "nbformat_minor": 2
}
